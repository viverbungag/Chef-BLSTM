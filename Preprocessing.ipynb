{
 "cells": [
  {
   "cell_type": "code",
   "execution_count": 17,
   "id": "b9bef244",
   "metadata": {},
   "outputs": [],
   "source": [
    "import constants as c\n",
    "import tensorflow as tf\n",
    "import numpy as np\n",
    "import pandas as pd\n",
    "from transformers import BertTokenizer, GPT2Tokenizer, TFBertModel\n",
    "from tensorflow.keras.layers import Input, Bidirectional, LSTM, Dense\n",
    "from tensorflow.keras.models import Model\n",
    "import os\n",
    "import pickle\n",
    "from sklearn.model_selection import train_test_split"
   ]
  },
  {
   "cell_type": "code",
   "execution_count": 2,
   "id": "c19ab66a",
   "metadata": {},
   "outputs": [],
   "source": [
    "df = pd.read_csv('data/full_dataset.csv')"
   ]
  },
  {
   "cell_type": "code",
   "execution_count": 3,
   "id": "ddc30e9b",
   "metadata": {},
   "outputs": [],
   "source": [
    "number_of_recipes= c.NUMBER_OF_RECIPES"
   ]
  },
  {
   "cell_type": "code",
   "execution_count": 4,
   "id": "1c65a270",
   "metadata": {},
   "outputs": [],
   "source": [
    "data = df[:number_of_recipes]"
   ]
  },
  {
   "cell_type": "code",
   "execution_count": 5,
   "id": "63b18ece",
   "metadata": {},
   "outputs": [],
   "source": [
    "RECIPE_START_TOKEN = c.RECIPE_START_TOKEN\n",
    "RECIPE_END_TOKEN = c.RECIPE_END_TOKEN\n",
    "\n",
    "TITLE_START_TOKEN = c.TITLE_START_TOKEN\n",
    "TITLE_END_TOKEN = c.TITLE_END_TOKEN\n",
    "\n",
    "NER_START_TOKEN = c.NER_START_TOKEN\n",
    "NER_END_TOKEN = c.NER_END_TOKEN\n",
    "NER_NEXT_TOKEN = c.NER_NEXT_TOKEN\n",
    "\n",
    "INGREDIENTS_START_TOKEN = c.INGREDIENTS_START_TOKEN\n",
    "INGREDIENTS_END_TOKEN = c.INGREDIENTS_END_TOKEN\n",
    "INGREDIENTS_NEXT_TOKEN = c.INGREDIENTS_NEXT_TOKEN\n",
    "\n",
    "INSTRUCTIONS_START_TOKEN = c.INSTRUCTIONS_START_TOKEN\n",
    "INSTRUCTIONS_END_TOKEN = c.INSTRUCTIONS_END_TOKEN\n",
    "INSTRUCTIONS_NEXT_TOKEN = c.INSTRUCTIONS_NEXT_TOKEN\n",
    "\n",
    "\n",
    "MIN_RECIPE_LENGTH = c.MIN_RECIPE_LENGTH\n",
    "MAX_RECIPE_LENGTH = c.MAX_RECIPE_LENGTH"
   ]
  },
  {
   "cell_type": "code",
   "execution_count": 6,
   "id": "bf4a0003",
   "metadata": {},
   "outputs": [],
   "source": [
    "def recipe_to_string(title, ingr, instr, ner):\n",
    "    # This string is presented as a part of recipes so we need to clean it up.\n",
    "    \n",
    "    title = title\n",
    "    ingredients = ingr.replace(\"]\", \"\").replace(\"[\", \"\").replace('\"', \"\").split(\", \")\n",
    "    instructions = [instruction.replace('\"', \"\") for instruction in instr.replace(\"]\", \"\").replace(\"[\", \" \").split('\",')]\n",
    "    ners = ner.replace(\"]\", \"\").replace(\"[\", \"\").replace('\"', \"\").split(\", \")\n",
    "    \n",
    "    ingredients_string = f'{INGREDIENTS_NEXT_TOKEN}'.join(ingredients)\n",
    "    instructions_string = f'{INSTRUCTIONS_NEXT_TOKEN}'.join(instructions)\n",
    "    ners_string = f'{NER_NEXT_TOKEN}'.join(ners)\n",
    "            \n",
    "    ner_final_string = f'{NER_START_TOKEN}{ners_string}{NER_END_TOKEN}'\n",
    "    title_final_string = f'{TITLE_START_TOKEN}{title}{TITLE_END_TOKEN}'\n",
    "    instructions_final_string = f'{INSTRUCTIONS_START_TOKEN}{instructions_string}{INSTRUCTIONS_END_TOKEN}'\n",
    "    ingredients_final_string = f'{INGREDIENTS_START_TOKEN}{ingredients_string}{INGREDIENTS_END_TOKEN}'\n",
    "    \n",
    "    recipe_final_string = f'{RECIPE_START_TOKEN}{ner_final_string}{ingredients_final_string}{instructions_final_string}{title_final_string}{RECIPE_END_TOKEN}'\n",
    "    \n",
    "    return recipe_final_string\n",
    "\n",
    "titles = data[\"title\"]\n",
    "ingredients = data[\"ingredients\"]\n",
    "directions = data[\"directions\"]\n",
    "ner_labels = data[\"NER\"]\n",
    "\n",
    "dataset_stringified = [recipe_to_string(title, ingr, instr, ner) for title, ingr, instr, ner in zip(titles, ingredients, directions, ner_labels)]"
   ]
  },
  {
   "cell_type": "code",
   "execution_count": 7,
   "id": "c3a0622c",
   "metadata": {},
   "outputs": [
    {
     "name": "stdout",
     "output_type": "stream",
     "text": [
      "<RECIPE_START> <NER_START> brown sugar <NER_NEXT> milk <NER_NEXT> vanilla <NER_NEXT> nuts <NER_NEXT> butter <NER_NEXT> bite size shredded rice biscuits <NER_END> <INGREDIENTS_START> 1 c. firmly packed brown sugar <INGREDIENTS_NEXT> 1/2 c. evaporated milk <INGREDIENTS_NEXT> 1/2 tsp. vanilla <INGREDIENTS_NEXT> 1/2 c. broken nuts (pecans) <INGREDIENTS_NEXT> 2 Tbsp. butter or margarine <INGREDIENTS_NEXT> 3 1/2 c. bite size shredded rice biscuits <INGREDIENTS_END> <INSTRUCTIONS_START> In a heavy 2-quart saucepan, mix brown sugar, nuts, evaporated milk and butter or margarine. <INSTRUCTIONS_NEXT> Stir over medium heat until mixture bubbles all over top. <INSTRUCTIONS_NEXT> Boil and stir 5 minutes more. Take off heat. <INSTRUCTIONS_NEXT> Stir in vanilla and cereal; mix well. <INSTRUCTIONS_NEXT> Using 2 teaspoons, drop and shape into 30 clusters on wax paper. <INSTRUCTIONS_NEXT> Let stand until firm, about 30 minutes. <INSTRUCTIONS_END> <TITLE_START> No-Bake Nut Cookies <TITLE_END> <RECIPE_END>\n"
     ]
    }
   ],
   "source": [
    "print(dataset_stringified[0])"
   ]
  },
  {
   "cell_type": "markdown",
   "id": "a687f648",
   "metadata": {},
   "source": []
  },
  {
   "cell_type": "code",
   "execution_count": 8,
   "id": "26666ff6",
   "metadata": {},
   "outputs": [],
   "source": [
    "def filter_recipes_by_length(recipe_test):\n",
    "    return len(recipe_test) <= MAX_RECIPE_LENGTH and len(recipe_test) > MIN_RECIPE_LENGTH\n",
    "\n",
    "dataset_filtered = [recipe_text for recipe_text in dataset_stringified if filter_recipes_by_length(recipe_text)]"
   ]
  },
  {
   "cell_type": "code",
   "execution_count": 9,
   "id": "758bc547",
   "metadata": {},
   "outputs": [],
   "source": [
    "dataset_filtered_train, dataset_filtered_test = train_test_split(dataset_filtered, test_size=0.2, random_state=23)"
   ]
  },
  {
   "cell_type": "code",
   "execution_count": 18,
   "id": "2ddc0859",
   "metadata": {},
   "outputs": [],
   "source": [
    "dataset_filtered_train_joint = \" \".join(dataset_filtered_train)\n",
    "dataset_filtered_test_joint = \" \".join(dataset_filtered_test)"
   ]
  },
  {
   "cell_type": "code",
   "execution_count": 19,
   "id": "c1c4d666",
   "metadata": {},
   "outputs": [],
   "source": [
    "dataset_filtered_joint = \" \".join(dataset_filtered)"
   ]
  },
  {
   "cell_type": "code",
   "execution_count": 20,
   "id": "9352ea1a",
   "metadata": {},
   "outputs": [
    {
     "data": {
      "text/plain": [
       "\"<RECIPE_START> <NER_START> beef <NER_NEXT> chicken breasts <NER_NEXT> cream of mushroom soup <NER_NEXT> sour cream <NER_END> <INGREDIENTS_START> 1 small jar chipped beef <INGREDIENTS_NEXT> cut up <INGREDIENTS_NEXT> 4 boned chicken breasts <INGREDIENTS_NEXT> 1 can cream of mushroom soup <INGREDIENTS_NEXT> 1 carton sour cream <INGREDIENTS_END> <INSTRUCTIONS_START> Place chipped beef on bottom of baking dish. <INSTRUCTIONS_NEXT> Place chicken on top of beef. <INSTRUCTIONS_NEXT> Mix soup and cream together; pour over chicken. Bake, uncovered, at 275\\\\u00b0 for 3 hours. <INSTRUCTIONS_END> <TITLE_START> Jewell Ball'S Chicken <TITLE_END> <RECIPE_END> <RECIPE_START> <NER_START> frozen corn <NER_NEXT> cream cheese <NER_NEXT> butter <NER_NEXT> garlic powder <NER_NEXT> salt <NER_NEXT> pepper <NER_END> <INGREDIENTS_START> 2 (16 oz.) pkg. frozen corn <INGREDIENTS_NEXT> 1 (8 oz.) pkg. cream cheese <INGREDIENTS_NEXT> cubed <INGREDIENTS_NEXT> 1/3 c. butter <INGREDIENTS_NEXT> cubed <INGREDIENTS_NEXT> 1/\""
      ]
     },
     "execution_count": 20,
     "metadata": {},
     "output_type": "execute_result"
    }
   ],
   "source": [
    "dataset_filtered_joint[:1000]"
   ]
  },
  {
   "cell_type": "code",
   "execution_count": 21,
   "id": "b9f4bfd6",
   "metadata": {},
   "outputs": [
    {
     "data": {
      "text/plain": [
       "241733459"
      ]
     },
     "execution_count": 21,
     "metadata": {},
     "output_type": "execute_result"
    }
   ],
   "source": [
    "len(dataset_filtered_joint)"
   ]
  },
  {
   "cell_type": "code",
   "execution_count": 22,
   "id": "8453e861",
   "metadata": {},
   "outputs": [],
   "source": [
    "with open(f'data/all_data_{number_of_recipes}.txt', 'w', encoding='utf-8') as f:\n",
    "    f.write(dataset_filtered_joint)"
   ]
  },
  {
   "cell_type": "code",
   "execution_count": 23,
   "id": "9d2c98ac",
   "metadata": {},
   "outputs": [],
   "source": [
    "with open(f'data/train_{number_of_recipes}.txt', 'w', encoding='utf-8') as f:\n",
    "    f.write(dataset_filtered_train_joint)"
   ]
  },
  {
   "cell_type": "code",
   "execution_count": 24,
   "id": "0291e475",
   "metadata": {},
   "outputs": [],
   "source": [
    "with open(f'data/test_{number_of_recipes}.txt', 'w', encoding='utf-8') as f:\n",
    "    f.write(dataset_filtered_test_joint)"
   ]
  },
  {
   "cell_type": "code",
   "execution_count": null,
   "id": "f1859fac",
   "metadata": {},
   "outputs": [],
   "source": []
  }
 ],
 "metadata": {
  "kernelspec": {
   "display_name": "Python 3 (ipykernel)",
   "language": "python",
   "name": "python3"
  },
  "language_info": {
   "codemirror_mode": {
    "name": "ipython",
    "version": 3
   },
   "file_extension": ".py",
   "mimetype": "text/x-python",
   "name": "python",
   "nbconvert_exporter": "python",
   "pygments_lexer": "ipython3",
   "version": "3.8.17"
  }
 },
 "nbformat": 4,
 "nbformat_minor": 5
}
