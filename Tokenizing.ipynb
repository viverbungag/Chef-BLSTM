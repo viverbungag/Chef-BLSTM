{
 "cells": [
  {
   "cell_type": "code",
   "execution_count": 1,
   "metadata": {},
   "outputs": [
    {
     "name": "stderr",
     "output_type": "stream",
     "text": [
      "w:\\anaconda3\\envs\\Viver\\lib\\site-packages\\tqdm\\auto.py:21: TqdmWarning: IProgress not found. Please update jupyter and ipywidgets. See https://ipywidgets.readthedocs.io/en/stable/user_install.html\n",
      "  from .autonotebook import tqdm as notebook_tqdm\n"
     ]
    }
   ],
   "source": [
    "import tokenizer_vars as tv\n",
    "import pickle\n",
    "import constants as c\n",
    "import functions as f"
   ]
  },
  {
   "cell_type": "code",
   "execution_count": 2,
   "metadata": {},
   "outputs": [],
   "source": [
    "number_of_recipes = c.NUMBER_OF_RECIPES\n",
    "vocab_size = c.VOCAB_SIZE\n",
    "path_train = f'data/train_{number_of_recipes}.txt'\n",
    "input_train = f.read_txt(path_train)"
   ]
  },
  {
   "cell_type": "code",
   "execution_count": 3,
   "metadata": {},
   "outputs": [],
   "source": [
    "tokenizer = tv.getTokenizer()"
   ]
  },
  {
   "cell_type": "code",
   "execution_count": 4,
   "metadata": {},
   "outputs": [
    {
     "data": {
      "text/plain": [
       "15013"
      ]
     },
     "execution_count": 4,
     "metadata": {},
     "output_type": "execute_result"
    }
   ],
   "source": [
    "tokenizer.get_vocab_size()"
   ]
  },
  {
   "cell_type": "code",
   "execution_count": 5,
   "metadata": {},
   "outputs": [],
   "source": [
    "tokens_ind = tokenizer.encode(input_train).ids"
   ]
  },
  {
   "cell_type": "code",
   "execution_count": null,
   "metadata": {},
   "outputs": [
    {
     "data": {
      "text/plain": [
       "10001"
      ]
     },
     "execution_count": 5,
     "metadata": {},
     "output_type": "execute_result"
    }
   ],
   "source": [
    "tokenizer.get_vocab()['<RECIPE_END>']"
   ]
  },
  {
   "cell_type": "code",
   "execution_count": null,
   "metadata": {},
   "outputs": [
    {
     "data": {
      "text/plain": [
       "10001"
      ]
     },
     "execution_count": 6,
     "metadata": {},
     "output_type": "execute_result"
    }
   ],
   "source": [
    "tokenizer.get_vocab_size() - 12"
   ]
  },
  {
   "cell_type": "code",
   "execution_count": 6,
   "metadata": {},
   "outputs": [],
   "source": [
    "# Get the highest number of indices in a recipe\n",
    "counter = 0\n",
    "highest_counter = 0\n",
    "start = False\n",
    "for token in tokens_ind:\n",
    "  if token == tokenizer.get_vocab_size() - 13:\n",
    "    \n",
    "    start = True\n",
    "\n",
    "  if start:\n",
    "    counter += 1\n",
    "\n",
    "  if counter > highest_counter:\n",
    "    highest_counter = counter\n",
    "\n",
    "  if token == tokenizer.get_vocab_size() - 12:\n",
    "    start = False\n",
    "    counter = 0"
   ]
  },
  {
   "cell_type": "code",
   "execution_count": 7,
   "metadata": {},
   "outputs": [
    {
     "data": {
      "text/plain": [
       "355"
      ]
     },
     "execution_count": 7,
     "metadata": {},
     "output_type": "execute_result"
    }
   ],
   "source": [
    "highest_counter"
   ]
  },
  {
   "cell_type": "code",
   "execution_count": 6,
   "metadata": {},
   "outputs": [],
   "source": [
    "with open(f'data/pickle_files/indices_{number_of_recipes}_vocab_{vocab_size}.pkl', 'wb') as file:\n",
    "    pickle.dump(tokens_ind, file)"
   ]
  },
  {
   "cell_type": "code",
   "execution_count": 7,
   "metadata": {},
   "outputs": [
    {
     "ename": "NameError",
     "evalue": "name 'highest_counter' is not defined",
     "output_type": "error",
     "traceback": [
      "\u001b[1;31m---------------------------------------------------------------------------\u001b[0m",
      "\u001b[1;31mNameError\u001b[0m                                 Traceback (most recent call last)",
      "\u001b[1;32mw:\\Documents\\School docs\\4th Year 1st sem\\Thesis 2\\jupyter\\BERT-BLSTM Model\\GPT_BLSTM\\tokenizing.ipynb Cell 11\u001b[0m line \u001b[0;36m2\n\u001b[0;32m      <a href='vscode-notebook-cell:/w%3A/Documents/School%20docs/4th%20Year%201st%20sem/Thesis%202/jupyter/BERT-BLSTM%20Model/GPT_BLSTM/tokenizing.ipynb#X13sZmlsZQ%3D%3D?line=0'>1</a>\u001b[0m \u001b[39mwith\u001b[39;00m \u001b[39mopen\u001b[39m(\u001b[39mf\u001b[39m\u001b[39m'\u001b[39m\u001b[39mdata/pickle_files/indices_\u001b[39m\u001b[39m{\u001b[39;00mnumber_of_recipes\u001b[39m}\u001b[39;00m\u001b[39m_max.pkl\u001b[39m\u001b[39m'\u001b[39m, \u001b[39m'\u001b[39m\u001b[39mwb\u001b[39m\u001b[39m'\u001b[39m) \u001b[39mas\u001b[39;00m file:\n\u001b[1;32m----> <a href='vscode-notebook-cell:/w%3A/Documents/School%20docs/4th%20Year%201st%20sem/Thesis%202/jupyter/BERT-BLSTM%20Model/GPT_BLSTM/tokenizing.ipynb#X13sZmlsZQ%3D%3D?line=1'>2</a>\u001b[0m     pickle\u001b[39m.\u001b[39mdump(highest_counter, file)\n",
      "\u001b[1;31mNameError\u001b[0m: name 'highest_counter' is not defined"
     ]
    }
   ],
   "source": [
    "with open(f'data/pickle_files/indices_{number_of_recipes}_max.pkl', 'wb') as file:\n",
    "    pickle.dump(highest_counter, file)\n"
   ]
  }
 ],
 "metadata": {
  "kernelspec": {
   "display_name": "Python 3",
   "language": "python",
   "name": "python3"
  },
  "language_info": {
   "codemirror_mode": {
    "name": "ipython",
    "version": 3
   },
   "file_extension": ".py",
   "mimetype": "text/x-python",
   "name": "python",
   "nbconvert_exporter": "python",
   "pygments_lexer": "ipython3",
   "version": "3.8.17"
  }
 },
 "nbformat": 4,
 "nbformat_minor": 2
}
