{
 "cells": [
  {
   "cell_type": "code",
   "execution_count": 9,
   "id": "b9bef244",
   "metadata": {},
   "outputs": [],
   "source": [
    "import constants as c\n",
    "import tensorflow as tf\n",
    "import numpy as np\n",
    "import pandas as pd\n",
    "from transformers import BertTokenizer, GPT2Tokenizer, TFBertModel\n",
    "from tensorflow.keras.layers import Input, Bidirectional, LSTM, Dense\n",
    "from tensorflow.keras.models import Model\n",
    "import os\n",
    "import pickle\n",
    "from sklearn.model_selection import train_test_split\n",
    "import matplotlib.pyplot as plt"
   ]
  },
  {
   "cell_type": "code",
   "execution_count": 4,
   "id": "c19ab66a",
   "metadata": {},
   "outputs": [],
   "source": [
    "df = pd.read_csv('data/full_dataset.csv')"
   ]
  },
  {
   "cell_type": "code",
   "execution_count": 5,
   "id": "1c65a270",
   "metadata": {},
   "outputs": [],
   "source": [
    "data = df"
   ]
  },
  {
   "cell_type": "code",
   "execution_count": 6,
   "id": "63b18ece",
   "metadata": {},
   "outputs": [],
   "source": [
    "RECIPE_START_TOKEN = c.RECIPE_START_TOKEN\n",
    "RECIPE_END_TOKEN = c.RECIPE_END_TOKEN\n",
    "\n",
    "TITLE_START_TOKEN = c.TITLE_START_TOKEN\n",
    "TITLE_END_TOKEN = c.TITLE_END_TOKEN\n",
    "\n",
    "NER_START_TOKEN = c.NER_START_TOKEN\n",
    "NER_END_TOKEN = c.NER_END_TOKEN\n",
    "NER_NEXT_TOKEN = c.NER_NEXT_TOKEN\n",
    "\n",
    "INGREDIENTS_START_TOKEN = c.INGREDIENTS_START_TOKEN\n",
    "INGREDIENTS_END_TOKEN = c.INGREDIENTS_END_TOKEN\n",
    "INGREDIENTS_NEXT_TOKEN = c.INGREDIENTS_NEXT_TOKEN\n",
    "\n",
    "INSTRUCTIONS_START_TOKEN = c.INSTRUCTIONS_START_TOKEN\n",
    "INSTRUCTIONS_END_TOKEN = c.INSTRUCTIONS_END_TOKEN\n",
    "INSTRUCTIONS_NEXT_TOKEN = c.INSTRUCTIONS_NEXT_TOKEN\n",
    "\n",
    "\n",
    "MIN_RECIPE_LENGTH = c.MIN_RECIPE_LENGTH\n",
    "MAX_RECIPE_LENGTH = c.MAX_RECIPE_LENGTH"
   ]
  },
  {
   "cell_type": "code",
   "execution_count": 7,
   "id": "bf4a0003",
   "metadata": {},
   "outputs": [],
   "source": [
    "def recipe_to_string(title, ingr, instr, ner):\n",
    "    # This string is presented as a part of recipes so we need to clean it up.\n",
    "    \n",
    "    title = title\n",
    "    ingredients = ingr.replace(\"]\", \"\").replace(\"[\", \"\").replace('\"', \"\").split(\", \")\n",
    "    instructions = [instruction.replace('\"', \"\") for instruction in instr.replace(\"]\", \"\").replace(\"[\", \" \").split('\",')]\n",
    "    ners = ner.replace(\"]\", \"\").replace(\"[\", \"\").replace('\"', \"\").split(\", \")\n",
    "    \n",
    "    ingredients_string = f'{INGREDIENTS_NEXT_TOKEN}'.join(ingredients)\n",
    "    instructions_string = f'{INSTRUCTIONS_NEXT_TOKEN}'.join(instructions)\n",
    "    ners_string = f'{NER_NEXT_TOKEN}'.join(ners)\n",
    "            \n",
    "    ner_final_string = f'{NER_START_TOKEN}{ners_string}{NER_END_TOKEN}'\n",
    "    title_final_string = f'{TITLE_START_TOKEN}{title}{TITLE_END_TOKEN}'\n",
    "    instructions_final_string = f'{INSTRUCTIONS_START_TOKEN}{instructions_string}{INSTRUCTIONS_END_TOKEN}'\n",
    "    ingredients_final_string = f'{INGREDIENTS_START_TOKEN}{ingredients_string}{INGREDIENTS_END_TOKEN}'\n",
    "    \n",
    "    recipe_final_string = f'{RECIPE_START_TOKEN}{ner_final_string}{ingredients_final_string}{instructions_final_string}{title_final_string}{RECIPE_END_TOKEN}'\n",
    "    \n",
    "    return recipe_final_string\n",
    "\n",
    "titles = data[\"title\"]\n",
    "ingredients = data[\"ingredients\"]\n",
    "directions = data[\"directions\"]\n",
    "ner_labels = data[\"NER\"]\n",
    "\n",
    "dataset_stringified = [recipe_to_string(title, ingr, instr, ner) for title, ingr, instr, ner in zip(titles, ingredients, directions, ner_labels)]"
   ]
  },
  {
   "cell_type": "code",
   "execution_count": 19,
   "id": "7fbfd56a",
   "metadata": {},
   "outputs": [
    {
     "data": {
      "text/plain": [
       "['<RECIPE_START>',\n",
       " '<NER_START>',\n",
       " 'beef',\n",
       " '<NER_NEXT>',\n",
       " 'chicken',\n",
       " 'breasts',\n",
       " '<NER_NEXT>',\n",
       " 'cream',\n",
       " 'of',\n",
       " 'mushroom',\n",
       " 'soup',\n",
       " '<NER_NEXT>',\n",
       " 'sour',\n",
       " 'cream',\n",
       " '<NER_END>',\n",
       " '<INGREDIENTS_START>',\n",
       " '1',\n",
       " 'small',\n",
       " 'jar',\n",
       " 'chipped',\n",
       " 'beef',\n",
       " '<INGREDIENTS_NEXT>',\n",
       " 'cut',\n",
       " 'up',\n",
       " '<INGREDIENTS_NEXT>',\n",
       " '4',\n",
       " 'boned',\n",
       " 'chicken',\n",
       " 'breasts',\n",
       " '<INGREDIENTS_NEXT>',\n",
       " '1',\n",
       " 'can',\n",
       " 'cream',\n",
       " 'of',\n",
       " 'mushroom',\n",
       " 'soup',\n",
       " '<INGREDIENTS_NEXT>',\n",
       " '1',\n",
       " 'carton',\n",
       " 'sour',\n",
       " 'cream',\n",
       " '<INGREDIENTS_END>',\n",
       " '<INSTRUCTIONS_START>',\n",
       " 'Place',\n",
       " 'chipped',\n",
       " 'beef',\n",
       " 'on',\n",
       " 'bottom',\n",
       " 'of',\n",
       " 'baking',\n",
       " 'dish.',\n",
       " '<INSTRUCTIONS_NEXT>',\n",
       " 'Place',\n",
       " 'chicken',\n",
       " 'on',\n",
       " 'top',\n",
       " 'of',\n",
       " 'beef.',\n",
       " '<INSTRUCTIONS_NEXT>',\n",
       " 'Mix',\n",
       " 'soup',\n",
       " 'and',\n",
       " 'cream',\n",
       " 'together;',\n",
       " 'pour',\n",
       " 'over',\n",
       " 'chicken.',\n",
       " 'Bake,',\n",
       " 'uncovered,',\n",
       " 'at',\n",
       " '275\\\\u00b0',\n",
       " 'for',\n",
       " '3',\n",
       " 'hours.',\n",
       " '<INSTRUCTIONS_END>',\n",
       " '<TITLE_START>',\n",
       " 'Jewell',\n",
       " \"Ball'S\",\n",
       " 'Chicken',\n",
       " '<TITLE_END>',\n",
       " '<RECIPE_END>']"
      ]
     },
     "execution_count": 19,
     "metadata": {},
     "output_type": "execute_result"
    }
   ],
   "source": []
  },
  {
   "cell_type": "code",
   "execution_count": 20,
   "id": "dde4e464",
   "metadata": {},
   "outputs": [],
   "source": [
    "recipes_lengths = []\n",
    "for recipe_text in dataset_stringified:\n",
    "    recipes_lengths.append(len((recipe_text).split(\" \")))"
   ]
  },
  {
   "cell_type": "code",
   "execution_count": 24,
   "id": "a6745137",
   "metadata": {},
   "outputs": [
    {
     "data": {
      "image/png": "[encoded data removed]",
      "text/plain": [
       "<Figure size 640x480 with 1 Axes>"
      ]
     },
     "metadata": {},
     "output_type": "display_data"
    }
   ],
   "source": [
    "plt.hist(recipes_lengths, bins=500, range=(0, 500))\n",
    "plt.show()"
   ]
  },
  {
   "cell_type": "code",
   "execution_count": 6,
   "id": "c3a0622c",
   "metadata": {},
   "outputs": [
    {
     "name": "stdout",
     "output_type": "stream",
     "text": [
      "<RECIPE_START> <NER_START> brown sugar <NER_NEXT> milk <NER_NEXT> vanilla <NER_NEXT> nuts <NER_NEXT> butter <NER_NEXT> bite size shredded rice biscuits <NER_END> <INGREDIENTS_START> 1 c. firmly packed brown sugar <INGREDIENTS_NEXT> 1/2 c. evaporated milk <INGREDIENTS_NEXT> 1/2 tsp. vanilla <INGREDIENTS_NEXT> 1/2 c. broken nuts (pecans) <INGREDIENTS_NEXT> 2 Tbsp. butter or margarine <INGREDIENTS_NEXT> 3 1/2 c. bite size shredded rice biscuits <INGREDIENTS_END> <INSTRUCTIONS_START> In a heavy 2-quart saucepan, mix brown sugar, nuts, evaporated milk and butter or margarine. <INSTRUCTIONS_NEXT> Stir over medium heat until mixture bubbles all over top. <INSTRUCTIONS_NEXT> Boil and stir 5 minutes more. Take off heat. <INSTRUCTIONS_NEXT> Stir in vanilla and cereal; mix well. <INSTRUCTIONS_NEXT> Using 2 teaspoons, drop and shape into 30 clusters on wax paper. <INSTRUCTIONS_NEXT> Let stand until firm, about 30 minutes. <INSTRUCTIONS_END> <TITLE_START> No-Bake Nut Cookies <TITLE_END> <RECIPE_END>\n"
     ]
    }
   ],
   "source": [
    "print(dataset_stringified[0])"
   ]
  },
  {
   "cell_type": "code",
   "execution_count": 7,
   "id": "c1c4d666",
   "metadata": {},
   "outputs": [
    {
     "data": {
      "text/plain": [
       "'<RECIPE_START> <NER_START> brown sugar <NER_NEXT> milk <NER_NEXT> vanilla <NER_NEXT> nuts <NER_NEXT> butter <NER_NEXT> bite size shredded rice biscuits <NER_END> <INGREDIENTS_START> 1 c. firmly packed brown sugar <INGREDIENTS_NEXT> 1/2 c. evaporated milk <INGREDIENTS_NEXT> 1/2 tsp. vanilla <INGREDIENTS_NEXT> 1/2 c. broken nuts (pecans) <INGREDIENTS_NEXT> 2 Tbsp. butter or margarine <INGREDIENTS_NEXT> 3 1/2 c. bite size shredded rice biscuits <INGREDIENTS_END> <INSTRUCTIONS_START> In a heavy 2-quart saucepan, mix brown sugar, nuts, evaporated milk and butter or margarine. <INSTRUCTIONS_NEXT> Stir over medium heat until mixture bubbles all over top. <INSTRUCTIONS_NEXT> Boil and stir 5 minutes more. Take off heat. <INSTRUCTIONS_NEXT> Stir in vanilla and cereal; mix well. <INSTRUCTIONS_NEXT> Using 2 teaspoons, drop and shape into 30 clusters on wax paper. <INSTRUCTIONS_NEXT> Let stand until firm, about 30 minutes. <INSTRUCTIONS_END> <TITLE_START> No-Bake Nut Cookies <TITLE_END> <RECIPE_END'"
      ]
     },
     "execution_count": 7,
     "metadata": {},
     "output_type": "execute_result"
    }
   ],
   "source": [
    "dataset_stringified_joint = \" \".join(dataset_stringified)\n",
    "dataset_stringified_joint[:1000]"
   ]
  },
  {
   "cell_type": "code",
   "execution_count": 8,
   "id": "b9f4bfd6",
   "metadata": {},
   "outputs": [
    {
     "data": {
      "text/plain": [
       "3031984438"
      ]
     },
     "execution_count": 8,
     "metadata": {},
     "output_type": "execute_result"
    }
   ],
   "source": [
    "len(dataset_stringified_joint)"
   ]
  },
  {
   "cell_type": "code",
   "execution_count": 9,
   "id": "8453e861",
   "metadata": {},
   "outputs": [],
   "source": [
    "with open(f'data/all/stringified.txt', 'w', encoding='utf-8') as f:\n",
    "    f.write(dataset_stringified_joint)"
   ]
  },
  {
   "cell_type": "code",
   "execution_count": 10,
   "id": "9d2c98ac",
   "metadata": {},
   "outputs": [
    {
     "ename": "NameError",
     "evalue": "name 'number_of_recipes' is not defined",
     "output_type": "error",
     "traceback": [
      "\u001b[1;31m---------------------------------------------------------------------------\u001b[0m",
      "\u001b[1;31mNameError\u001b[0m                                 Traceback (most recent call last)",
      "\u001b[1;32mw:\\Documents\\School docs\\4th Year 1st sem\\Thesis 2\\jupyter\\BERT-BLSTM Model\\GPT_BLSTM\\Preprocessing_all.ipynb Cell 10\u001b[0m line \u001b[0;36m1\n\u001b[1;32m----> <a href='vscode-notebook-cell:/w%3A/Documents/School%20docs/4th%20Year%201st%20sem/Thesis%202/jupyter/BERT-BLSTM%20Model/GPT_BLSTM/Preprocessing_all.ipynb#X12sZmlsZQ%3D%3D?line=0'>1</a>\u001b[0m \u001b[39mwith\u001b[39;00m \u001b[39mopen\u001b[39m(\u001b[39mf\u001b[39m\u001b[39m'\u001b[39m\u001b[39mdata/train_\u001b[39m\u001b[39m{\u001b[39;00mnumber_of_recipes\u001b[39m}\u001b[39;00m\u001b[39m.txt\u001b[39m\u001b[39m'\u001b[39m, \u001b[39m'\u001b[39m\u001b[39mw\u001b[39m\u001b[39m'\u001b[39m, encoding\u001b[39m=\u001b[39m\u001b[39m'\u001b[39m\u001b[39mutf-8\u001b[39m\u001b[39m'\u001b[39m) \u001b[39mas\u001b[39;00m f:\n\u001b[0;32m      <a href='vscode-notebook-cell:/w%3A/Documents/School%20docs/4th%20Year%201st%20sem/Thesis%202/jupyter/BERT-BLSTM%20Model/GPT_BLSTM/Preprocessing_all.ipynb#X12sZmlsZQ%3D%3D?line=1'>2</a>\u001b[0m     f\u001b[39m.\u001b[39mwrite(dataset_filtered_train_joint)\n",
      "\u001b[1;31mNameError\u001b[0m: name 'number_of_recipes' is not defined"
     ]
    }
   ],
   "source": [
    "with open(f'data/train_{number_of_recipes}.txt', 'w', encoding='utf-8') as f:\n",
    "    f.write(dataset_filtered_train_joint)"
   ]
  },
  {
   "cell_type": "code",
   "execution_count": null,
   "id": "0291e475",
   "metadata": {},
   "outputs": [],
   "source": [
    "with open(f'data/test_{number_of_recipes}.txt', 'w', encoding='utf-8') as f:\n",
    "    f.write(dataset_filtered_test_joint)"
   ]
  },
  {
   "cell_type": "code",
   "execution_count": null,
   "id": "f1859fac",
   "metadata": {},
   "outputs": [],
   "source": []
  }
 ],
 "metadata": {
  "kernelspec": {
   "display_name": "Python 3 (ipykernel)",
   "language": "python",
   "name": "python3"
  },
  "language_info": {
   "codemirror_mode": {
    "name": "ipython",
    "version": 3
   },
   "file_extension": ".py",
   "mimetype": "text/x-python",
   "name": "python",
   "nbconvert_exporter": "python",
   "pygments_lexer": "ipython3",
   "version": "3.8.17"
  }
 },
 "nbformat": 4,
 "nbformat_minor": 5
}
