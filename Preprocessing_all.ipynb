{
 "cells": [
  {
   "cell_type": "code",
   "execution_count": 1,
   "id": "b9bef244",
   "metadata": {},
   "outputs": [
    {
     "name": "stderr",
     "output_type": "stream",
     "text": [
      "w:\\anaconda3\\envs\\Viver\\lib\\site-packages\\tqdm\\auto.py:21: TqdmWarning: IProgress not found. Please update jupyter and ipywidgets. See https://ipywidgets.readthedocs.io/en/stable/user_install.html\n",
      "  from .autonotebook import tqdm as notebook_tqdm\n"
     ]
    }
   ],
   "source": [
    "import constants as c\n",
    "import tensorflow as tf\n",
    "import numpy as np\n",
    "import pandas as pd\n",
    "from transformers import BertTokenizer, GPT2Tokenizer, TFBertModel\n",
    "from tensorflow.keras.layers import Input, Bidirectional, LSTM, Dense\n",
    "from tensorflow.keras.models import Model\n",
    "import os\n",
    "import pickle\n",
    "from sklearn.model_selection import train_test_split"
   ]
  },
  {
   "cell_type": "code",
   "execution_count": 2,
   "id": "c19ab66a",
   "metadata": {},
   "outputs": [],
   "source": [
    "df = pd.read_csv('data/full_dataset.csv')"
   ]
  },
  {
   "cell_type": "code",
   "execution_count": 3,
   "id": "1c65a270",
   "metadata": {},
   "outputs": [],
   "source": [
    "data = df"
   ]
  },
  {
   "cell_type": "code",
   "execution_count": 4,
   "id": "63b18ece",
   "metadata": {},
   "outputs": [],
   "source": [
    "RECIPE_START_TOKEN = c.RECIPE_START_TOKEN\n",
    "RECIPE_END_TOKEN = c.RECIPE_END_TOKEN\n",
    "\n",
    "TITLE_START_TOKEN = c.TITLE_START_TOKEN\n",
    "TITLE_END_TOKEN = c.TITLE_END_TOKEN\n",
    "\n",
    "NER_START_TOKEN = c.NER_START_TOKEN\n",
    "NER_END_TOKEN = c.NER_END_TOKEN\n",
    "NER_NEXT_TOKEN = c.NER_NEXT_TOKEN\n",
    "\n",
    "INGREDIENTS_START_TOKEN = c.INGREDIENTS_START_TOKEN\n",
    "INGREDIENTS_END_TOKEN = c.INGREDIENTS_END_TOKEN\n",
    "INGREDIENTS_NEXT_TOKEN = c.INGREDIENTS_NEXT_TOKEN\n",
    "\n",
    "INSTRUCTIONS_START_TOKEN = c.INSTRUCTIONS_START_TOKEN\n",
    "INSTRUCTIONS_END_TOKEN = c.INSTRUCTIONS_END_TOKEN\n",
    "INSTRUCTIONS_NEXT_TOKEN = c.INSTRUCTIONS_NEXT_TOKEN\n",
    "\n",
    "\n",
    "MIN_RECIPE_LENGTH = c.MIN_RECIPE_LENGTH\n",
    "MAX_RECIPE_LENGTH = c.MAX_RECIPE_LENGTH"
   ]
  },
  {
   "cell_type": "code",
   "execution_count": 5,
   "id": "bf4a0003",
   "metadata": {},
   "outputs": [],
   "source": [
    "def recipe_to_string(title, ingr, instr, ner):\n",
    "    # This string is presented as a part of recipes so we need to clean it up.\n",
    "    \n",
    "    title = title\n",
    "    ingredients = ingr.replace(\"]\", \"\").replace(\"[\", \"\").replace('\"', \"\").split(\", \")\n",
    "    instructions = [instruction.replace('\"', \"\") for instruction in instr.replace(\"]\", \"\").replace(\"[\", \" \").split('\",')]\n",
    "    ners = ner.replace(\"]\", \"\").replace(\"[\", \"\").replace('\"', \"\").split(\", \")\n",
    "    \n",
    "    ingredients_string = f'{INGREDIENTS_NEXT_TOKEN}'.join(ingredients)\n",
    "    instructions_string = f'{INSTRUCTIONS_NEXT_TOKEN}'.join(instructions)\n",
    "    ners_string = f'{NER_NEXT_TOKEN}'.join(ners)\n",
    "            \n",
    "    ner_final_string = f'{NER_START_TOKEN}{ners_string}{NER_END_TOKEN}'\n",
    "    title_final_string = f'{TITLE_START_TOKEN}{title}{TITLE_END_TOKEN}'\n",
    "    instructions_final_string = f'{INSTRUCTIONS_START_TOKEN}{instructions_string}{INSTRUCTIONS_END_TOKEN}'\n",
    "    ingredients_final_string = f'{INGREDIENTS_START_TOKEN}{ingredients_string}{INGREDIENTS_END_TOKEN}'\n",
    "    \n",
    "    recipe_final_string = f'{RECIPE_START_TOKEN}{ner_final_string}{ingredients_final_string}{instructions_final_string}{title_final_string}{RECIPE_END_TOKEN}'\n",
    "    \n",
    "    return recipe_final_string\n",
    "\n",
    "titles = data[\"title\"]\n",
    "ingredients = data[\"ingredients\"]\n",
    "directions = data[\"directions\"]\n",
    "ner_labels = data[\"NER\"]\n",
    "\n",
    "dataset_stringified = [recipe_to_string(title, ingr, instr, ner) for title, ingr, instr, ner in zip(titles, ingredients, directions, ner_labels)]"
   ]
  },
  {
   "cell_type": "code",
   "execution_count": 22,
   "id": "c3a0622c",
   "metadata": {},
   "outputs": [
    {
     "name": "stdout",
     "output_type": "stream",
     "text": [
      "<RECIPE_START> <NER_START> brown sugar <NER_NEXT> milk <NER_NEXT> vanilla <NER_NEXT> nuts <NER_NEXT> butter <NER_NEXT> bite size shredded rice biscuits <NER_END> <INGREDIENTS_START> 1 c. firmly packed brown sugar <INGREDIENTS_NEXT> 1/2 c. evaporated milk <INGREDIENTS_NEXT> 1/2 tsp. vanilla <INGREDIENTS_NEXT> 1/2 c. broken nuts (pecans) <INGREDIENTS_NEXT> 2 Tbsp. butter or margarine <INGREDIENTS_NEXT> 3 1/2 c. bite size shredded rice biscuits <INGREDIENTS_END> <INSTRUCTIONS_START> In a heavy 2-quart saucepan, mix brown sugar, nuts, evaporated milk and butter or margarine. <INSTRUCTIONS_NEXT> Stir over medium heat until mixture bubbles all over top. <INSTRUCTIONS_NEXT> Boil and stir 5 minutes more. Take off heat. <INSTRUCTIONS_NEXT> Stir in vanilla and cereal; mix well. <INSTRUCTIONS_NEXT> Using 2 teaspoons, drop and shape into 30 clusters on wax paper. <INSTRUCTIONS_NEXT> Let stand until firm, about 30 minutes. <INSTRUCTIONS_END> <TITLE_START> No-Bake Nut Cookies <TITLE_END> <RECIPE_END>\n"
     ]
    }
   ],
   "source": [
    "print(dataset_stringified[0])"
   ]
  },
  {
   "cell_type": "code",
   "execution_count": 15,
   "id": "c1c4d666",
   "metadata": {},
   "outputs": [
    {
     "data": {
      "text/plain": [
       "'<RECIPE_START> <NER_START> brown sugar <NER_NEXT> milk <NER_NEXT> vanilla <NER_NEXT> nuts <NER_NEXT> butter <NER_NEXT> bite size shredded rice biscuits <NER_END> <INGREDIENTS_START> 1 c. firmly packed brown sugar <INGREDIENTS_NEXT> 1/2 c. evaporated milk <INGREDIENTS_NEXT> 1/2 tsp. vanilla <INGREDIENTS_NEXT> 1/2 c. broken nuts (pecans) <INGREDIENTS_NEXT> 2 Tbsp. butter or margarine <INGREDIENTS_NEXT> 3 1/2 c. bite size shredded rice biscuits <INGREDIENTS_END> <INSTRUCTIONS_START> In a heavy 2-quart saucepan, mix brown sugar, nuts, evaporated milk and butter or margarine. <INSTRUCTIONS_NEXT> Stir over medium heat until mixture bubbles all over top. <INSTRUCTIONS_NEXT> Boil and stir 5 minutes more. Take off heat. <INSTRUCTIONS_NEXT> Stir in vanilla and cereal; mix well. <INSTRUCTIONS_NEXT> Using 2 teaspoons, drop and shape into 30 clusters on wax paper. <INSTRUCTIONS_NEXT> Let stand until firm, about 30 minutes. <INSTRUCTIONS_END> <TITLE_START> No-Bake Nut Cookies <TITLE_END> <RECIPE_END'"
      ]
     },
     "execution_count": 15,
     "metadata": {},
     "output_type": "execute_result"
    }
   ],
   "source": [
    "dataset_stringified_joint = \" \".join(dataset_stringified)\n",
    "dataset_stringified_joint[:1000]"
   ]
  },
  {
   "cell_type": "code",
   "execution_count": 17,
   "id": "b9f4bfd6",
   "metadata": {},
   "outputs": [
    {
     "data": {
      "text/plain": [
       "3031984438"
      ]
     },
     "execution_count": 17,
     "metadata": {},
     "output_type": "execute_result"
    }
   ],
   "source": [
    "len(dataset_stringified_joint)"
   ]
  },
  {
   "cell_type": "code",
   "execution_count": 18,
   "id": "8453e861",
   "metadata": {},
   "outputs": [],
   "source": [
    "with open(f'data/all/stringified.txt', 'w', encoding='utf-8') as f:\n",
    "    f.write(dataset_stringified_joint)"
   ]
  },
  {
   "cell_type": "code",
   "execution_count": 29,
   "id": "9d2c98ac",
   "metadata": {},
   "outputs": [],
   "source": [
    "with open(f'data/train_{number_of_recipes}.txt', 'w', encoding='utf-8') as f:\n",
    "    f.write(dataset_filtered_train_joint)"
   ]
  },
  {
   "cell_type": "code",
   "execution_count": 30,
   "id": "0291e475",
   "metadata": {},
   "outputs": [],
   "source": [
    "with open(f'data/test_{number_of_recipes}.txt', 'w', encoding='utf-8') as f:\n",
    "    f.write(dataset_filtered_test_joint)"
   ]
  },
  {
   "cell_type": "code",
   "execution_count": null,
   "id": "f1859fac",
   "metadata": {},
   "outputs": [],
   "source": []
  }
 ],
 "metadata": {
  "kernelspec": {
   "display_name": "Python 3 (ipykernel)",
   "language": "python",
   "name": "python3"
  },
  "language_info": {
   "codemirror_mode": {
    "name": "ipython",
    "version": 3
   },
   "file_extension": ".py",
   "mimetype": "text/x-python",
   "name": "python",
   "nbconvert_exporter": "python",
   "pygments_lexer": "ipython3",
   "version": "3.8.17"
  }
 },
 "nbformat": 4,
 "nbformat_minor": 5
}
